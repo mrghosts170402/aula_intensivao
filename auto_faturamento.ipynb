import pyautogui
import pyperclip 
import time
import datetime
pyautogui.PAUSE = 1

link = ("https://drive.google.com/drive/folders/14oLE59U1RqyRqlBbKpsyymW-mitvbtoh")

pyautogui.alert("vai começar, aperte ok e nao mexa em nada")
pyautogui.hotkey("ctrl", "t")
pyperclip.copy (link)
pyautogui.hotkey("ctrl", "v")
pyautogui.press("enter")
time.sleep(5)

pyautogui.click(x=-930, y=216) #arquivo
time.sleep (7)

import pandas as pd

tabela = pd.read_excel(r"C:\Users\gabriel\Downloads\vendas - dez.xlsx")

quantidade = tabela["Quantidade"].sum()
faturamento = tabela ['Valor Final'].sum()
pyautogui.click(x=-55, y=5)

pyautogui.hotkey("ctrl", "t")
pyautogui.write("https://www.instagram.com")
pyautogui.press("enter")

time.sleep(8)

pyautogui.click(x=-244, y=56)
time.sleep(4)
pyautogui.click(x=-747, y=194)
time.sleep(2)
pyautogui.click(x=-546, y=646)
time.sleep(2)

texto= f"""
prezados, bom dia

O faturamento de ontem foi de: R${faturamento:,.2f}
A quantidade de vendas foi de: {quantidade: ,}"""
pyperclip.copy(texto)

pyautogui.hotkey ("ctrl", "v")

pyautogui.press("enter")

#pyautogui.position()

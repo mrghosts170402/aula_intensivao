import pandas as pd

tabela = pd.read_csv(r"C:\Users\gabriel\Downloads\telecom.csv")

# Passo 2: Visualizar a base de dados
tabela = tabela.drop("Unnamed: 0", axis=1)
display(tabela)

print(tabela.info())

tabela["TotalGasto"] = pd.to_numeric(tabela["TotalGasto"], errors="coerce")
#transformar coluna que está como object para flaot64

#deletar valores vazios
#axis = 0 == linha | axis = 1 == coluna
tabela = tabela.dropna(how="all", axis=1)
tabela = tabela.dropna(how="any", axis=0)

#analise inicial - como estão os cancelamentos
print(tabela["Churn"].value_counts())
print(tabela["Churn"].value_counts(normalize=True).map("{:.1%}".format))

import plotly.express as px 
for coluna in tabela.columns:
    grafico = px.histogram(tabela, x=coluna, color="Churn", text_auto=True)
    grafico.show()
